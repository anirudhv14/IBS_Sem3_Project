{
 "cells": [
  {
   "cell_type": "code",
   "execution_count": 8,
   "metadata": {},
   "outputs": [],
   "source": [
    "from itertools import permutations\n",
    "import time"
   ]
  },
  {
   "cell_type": "code",
   "execution_count": 2,
   "metadata": {
    "id": "qe6ysaczt1Ej"
   },
   "outputs": [],
   "source": [
    "def kmerfind(seq,k):\n",
    "        kmerList = []\n",
    "        for i in range(0,len(seq)-k+1):\n",
    "            kmer=seq[i:i+k]\n",
    "            kmerList.append(kmer)\n",
    "        return kmerList"
   ]
  },
  {
   "cell_type": "code",
   "execution_count": 3,
   "metadata": {
    "id": "JtiLrXW3t1Ve"
   },
   "outputs": [],
   "source": [
    "def kmersort(kmerList):\n",
    "    x=kmerList.copy()\n",
    "    l = len(x)\n",
    "    for i in range(l-1): \n",
    "        for j in range(l-i-1): \n",
    "            if x[j]>x[j+1]: \n",
    "                  x[j],x[j+1]=x[j+1],x[j]\n",
    "    return x"
   ]
  },
  {
   "cell_type": "code",
   "execution_count": 4,
   "metadata": {
    "id": "gviz-qvXt1gE"
   },
   "outputs": [],
   "source": [
    "def creatAdjMatrix(inpStr, k):\n",
    "    adjMat = []\n",
    "    kmerList = kmerfind(inpStr,k)\n",
    "    kmerList.sort()\n",
    "    for i in range(len(kmerList)):\n",
    "        adjMat.append([])\n",
    "    for i in range(len(kmerList)):\n",
    "        for j in range(len(kmerList)):\n",
    "            strr1 = kmerList[i]\n",
    "            strr2 = kmerList[j]\n",
    "            adjMat[i].append(hammingDist(strr1[1:k], strr2[0:k-1]))\n",
    "    return adjMat, kmerList"
   ]
  },
  {
   "cell_type": "code",
   "execution_count": 5,
   "metadata": {
    "id": "O0JzUisAuSFv"
   },
   "outputs": [],
   "source": [
    "def hammingDist(str1, str2):\n",
    "    ctr = 0\n",
    "    if(len(str1) == len(str2)):\n",
    "        for i in range(len(str1)):\n",
    "            if(str1[i] != str2[i]):\n",
    "                ctr+=1\n",
    "    return ctr"
   ]
  },
  {
   "cell_type": "code",
   "execution_count": 6,
   "metadata": {},
   "outputs": [],
   "source": [
    "def checkDistForOrder(order,kmerList, adjMat):\n",
    "    bestEver = 99999999\n",
    "    for i in order:\n",
    "        s = 0\n",
    "        for j in range(len(i)-1):\n",
    "            s += adjMat[i[j]][i[j+1]]\n",
    "        if(s<bestEver):\n",
    "            bestEver = s\n",
    "            bestOrder = i\n",
    "    return bestEver,bestOrder"
   ]
  },
  {
   "cell_type": "code",
   "execution_count": 15,
   "metadata": {
    "colab": {
     "base_uri": "https://localhost:8080/",
     "height": 128
    },
    "id": "gqu4SIeRujSO",
    "outputId": "c080d5e9-0065-4e75-a444-329d2c3762f9"
   },
   "outputs": [
    {
     "name": "stdout",
     "output_type": "stream",
     "text": [
      "CCAGATATGAGAT\n",
      "CCAGATATGAGAT\n",
      "Time taken-->0.23790287971496582\n"
     ]
    }
   ],
   "source": [
    "start_time = time.time()\n",
    "k = 6\n",
    "order = []\n",
    "target = 'CCAGATATGAGAT'\n",
    "adjacency_matrix,kmerList = creatAdjMatrix(target, k)\n",
    "places = kmersort(kmerList)\n",
    "for i in range(len(kmerList)):\n",
    "    order.append(i)\n",
    "possPaths = list(permutations(order))\n",
    "a, b = checkDistForOrder(possPaths, kmerList, adjacency_matrix)\n",
    "# print(a,\"\\n\",b)\n",
    "finStr = \"\"\n",
    "for i in range(len(b)):\n",
    "    if(i == 0):\n",
    "        finStr += kmerList[b[i]]\n",
    "        continue\n",
    "    finStr += kmerList[b[i]][k-1]\n",
    "print(finStr)\n",
    "print(target)\n",
    "print(\"Time taken-->\"+str(time.time()-start_time))"
   ]
  },
  {
   "cell_type": "markdown",
   "metadata": {},
   "source": [
    "n = 9, time = 0.5s <br>\n",
    "n = 10, time = 6s"
   ]
  }
 ],
 "metadata": {
  "colab": {
   "name": "tsp_brute_force",
   "provenance": []
  },
  "kernelspec": {
   "display_name": "Python 3",
   "language": "python",
   "name": "python3"
  },
  "language_info": {
   "codemirror_mode": {
    "name": "ipython",
    "version": 3
   },
   "file_extension": ".py",
   "mimetype": "text/x-python",
   "name": "python",
   "nbconvert_exporter": "python",
   "pygments_lexer": "ipython3",
   "version": "3.7.3"
  }
 },
 "nbformat": 4,
 "nbformat_minor": 1
}
