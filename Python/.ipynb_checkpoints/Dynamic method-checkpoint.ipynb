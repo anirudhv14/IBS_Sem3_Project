{
 "cells": [
  {
   "cell_type": "code",
   "execution_count": 1,
   "metadata": {},
   "outputs": [
    {
     "name": "stdout",
     "output_type": "stream",
     "text": [
      "Collecting mip\n",
      "  Downloading https://files.pythonhosted.org/packages/e5/7c/615a417b8b74dde4c3573f09c79612e3e0ed8c9b9488daf67e86cde350d2/mip-1.13.0-py3-none-any.whl (48.0MB)\n",
      "Requirement already satisfied: cffi in c:\\users\\aniru\\anaconda2\\lib\\site-packages (from mip) (1.12.2)\n",
      "Requirement already satisfied: pycparser in c:\\users\\aniru\\anaconda2\\lib\\site-packages (from cffi->mip) (2.19)\n",
      "Installing collected packages: mip\n",
      "Successfully installed mip-1.13.0\n",
      "Note: you may need to restart the kernel to use updated packages.\n"
     ]
    }
   ],
   "source": [
    "pip install mip"
   ]
  },
  {
   "cell_type": "code",
   "execution_count": 1,
   "metadata": {},
   "outputs": [],
   "source": [
    "def kmerfind(seq,k):\n",
    "        kmerList = []\n",
    "        for i in range(0,len(seq)-k+1):\n",
    "            kmer=seq[i:i+k]\n",
    "            kmerList.append(kmer)\n",
    "        return kmerList"
   ]
  },
  {
   "cell_type": "code",
   "execution_count": 2,
   "metadata": {},
   "outputs": [],
   "source": [
    "def kmersort(kmerList):\n",
    "    x=kmerList.copy()\n",
    "    l = len(x)\n",
    "    for i in range(l-1): \n",
    "        for j in range(l-i-1): \n",
    "            if x[j]>x[j+1]: \n",
    "                  x[j],x[j+1]=x[j+1],x[j]\n",
    "    return x"
   ]
  },
  {
   "cell_type": "code",
   "execution_count": null,
   "metadata": {},
   "outputs": [],
   "source": [
    "from itertools import product\n",
    "from sys import stdout as out\n",
    "from mip import Model, xsum, minimize, BINARY\n",
    "k = 3\n",
    "target = 'CCAGATCTCTCGATCTTCTTACA'\n",
    "kmerList = kmerfind(target,k) #splits sequence into kmers\n",
    "places = kmersort(kmerList)# sorts the kmers in lexicographic order\n",
    "# names of places to visit\n",
    "# distances in an upper triangular matrix\n",
    "dists = [[83, 81, 113, 52, 42, 73, 44, 23, 91, 105, 90, 124, 57],\n",
    "         [161, 160, 39, 89, 151, 110, 90, 99, 177, 143, 193, 100],\n",
    "         [90, 100, 82, 13, 57, 71, 123, 38, 72, 59, 82],\n",
    "         [123, 77, 81, 71, 91, 72, 64, 24, 62, 63],\n",
    "         [51, 114, 72, 54, 69, 139, 105, 155, 62],\n",
    "         [70, 25, 22, 52, 90, 56, 105, 16],\n",
    "         [45, 61, 111, 36, 61, 57, 70],\n",
    "         [23, 71, 67, 48, 85, 29],\n",
    "         [74, 89, 69, 107, 36],\n",
    "         [117, 65, 125, 43],\n",
    "         [54, 22, 84],\n",
    "         [60, 44],\n",
    "         [97],\n",
    "         []]\n"
   ]
  },
  {
   "cell_type": "code",
   "execution_count": 7,
   "metadata": {},
   "outputs": [],
   "source": [
    "def hammingDist(str1, str2):\n",
    "    ctr = 0\n",
    "    if(len(str1) == len(str2)):\n",
    "        for i in range(len(str1)):\n",
    "            if(str1[i] != str2[i]):\n",
    "                ctr+=1\n",
    "    return ctr"
   ]
  },
  {
   "cell_type": "code",
   "execution_count": 21,
   "metadata": {},
   "outputs": [],
   "source": [
    "def creatAdjMatrix(inpStr, k):\n",
    "    adjMat = []\n",
    "    kmerList = kmerfind(inpStr,k)\n",
    "    kmerList.sort()\n",
    "    for i in range(len(kmerList)):\n",
    "        adjMat.append([])\n",
    "    for i in range(len(kmerList)):\n",
    "        for j in range(len(kmerList)):\n",
    "            strr1 = kmerList[i]\n",
    "            strr2 = kmerList[j]\n",
    "            adjMat[i].append(hammingDist(strr1[1:k], strr2[0:k-1]))\n",
    "    return adjMat, kmerList"
   ]
  },
  {
   "cell_type": "code",
   "execution_count": 23,
   "metadata": {},
   "outputs": [
    {
     "name": "stdout",
     "output_type": "stream",
     "text": [
      "[9, 9, 6, 4, 9, 7, 9, 9, 0, 4, 6, 5, 5, 7] \n",
      "\n",
      "[9, 9, 7, 6, 8, 8, 8, 9, 5, 5, 5, 4, 0, 5] \n",
      "\n",
      "[5, 6, 7, 8, 6, 5, 8, 6, 7, 7, 5, 5, 5, 0] \n",
      "\n",
      "[0, 4, 6, 9, 4, 4, 6, 5, 9, 6, 7, 9, 9, 5] \n",
      "\n",
      "[9, 9, 6, 0, 8, 5, 7, 8, 4, 6, 4, 6, 6, 8] \n",
      "\n",
      "[6, 7, 7, 6, 6, 7, 5, 8, 4, 0, 7, 6, 5, 7] \n",
      "\n",
      "[7, 9, 5, 4, 6, 8, 8, 7, 6, 7, 0, 6, 5, 5] \n",
      "\n",
      "[9, 9, 8, 6, 8, 6, 8, 9, 5, 6, 6, 0, 4, 5] \n",
      "\n",
      "[4, 0, 4, 9, 7, 6, 5, 5, 9, 7, 9, 9, 9, 6] \n",
      "\n",
      "[6, 4, 0, 6, 8, 7, 6, 5, 6, 7, 5, 8, 7, 7] \n",
      "\n",
      "[4, 6, 7, 5, 6, 0, 6, 6, 7, 7, 8, 6, 8, 5] \n",
      "\n",
      "[6, 5, 6, 7, 3, 6, 0, 5, 9, 5, 8, 8, 8, 8] \n",
      "\n",
      "[5, 5, 5, 8, 6, 6, 5, 0, 9, 8, 7, 9, 9, 6] \n",
      "\n",
      "[8, 6, 6, 6, 7, 6, 6, 6, 5, 5, 8, 6, 6, 7] \n",
      "\n",
      "['AGATCTCTCG', 'ATCTCTCGAT', 'ATCTTCTTAC', 'CAGATCTCTC', 'CCAGATCTCT', 'CGATCTTCTT', 'CTCGATCTTC', 'CTCTCGATCT', 'GATCTCTCGA', 'GATCTTCTTA', 'TCGATCTTCT', 'TCTCGATCTT', 'TCTCTCGATC', 'TCTTCTTACA']\n"
     ]
    }
   ],
   "source": [
    "aa, bb = creatAdjMatrix(\"CCAGATCTCTCGATCTTCTTACA\", 10)\n",
    "for i in range(len(aa)):\n",
    "    print(aa[i],\"\\n\")\n",
    "print(bb)"
   ]
  }
 ],
 "metadata": {
  "kernelspec": {
   "display_name": "Python 3",
   "language": "python",
   "name": "python3"
  },
  "language_info": {
   "codemirror_mode": {
    "name": "ipython",
    "version": 3
   },
   "file_extension": ".py",
   "mimetype": "text/x-python",
   "name": "python",
   "nbconvert_exporter": "python",
   "pygments_lexer": "ipython3",
   "version": "3.7.3"
  }
 },
 "nbformat": 4,
 "nbformat_minor": 2
}
